{
 "cells": [
  {
   "cell_type": "code",
   "execution_count": 20,
   "metadata": {
    "scrolled": true
   },
   "outputs": [],
   "source": [
    "import numpy as np\n",
    "import progressbar\n",
    "import pandas as pd\n",
    "from gtts import gTTS\n",
    "\n",
    "filepath = 'words.csv'\n",
    "\n",
    "words = pd.read_csv(filepath)\n",
    "words = words.drop_duplicates(['ja'])\n",
    "words.to_csv('unique.csv', na_rep=\"MISS\", index=False)"
   ]
  },
  {
   "cell_type": "code",
   "execution_count": 9,
   "metadata": {
    "scrolled": true
   },
   "outputs": [],
   "source": [
    "jp_words = words.iloc[:, 0].str.strip()\n",
    "en_words = words.iloc[:, 1].str.strip()"
   ]
  },
  {
   "cell_type": "code",
   "execution_count": 18,
   "metadata": {
    "scrolled": true
   },
   "outputs": [
    {
     "data": {
      "text/plain": [
       "0    アイスクリーム\n",
       "1       アイロン\n",
       "2        アウト\n",
       "3     アクセサリー\n",
       "4       アクセル\n",
       "5      アクセント\n",
       "6        アジア\n",
       "7        アップ\n",
       "8     アナウンサー\n",
       "9       アパート\n",
       "Name: ja, dtype: object"
      ]
     },
     "execution_count": 18,
     "metadata": {},
     "output_type": "execute_result"
    }
   ],
   "source": [
    "jp_words.head(10)"
   ]
  },
  {
   "cell_type": "code",
   "execution_count": 19,
   "metadata": {
    "scrolled": false
   },
   "outputs": [
    {
     "data": {
      "text/plain": [
       "0             ice cream\n",
       "1                  iron\n",
       "2                   out\n",
       "3             accessory\n",
       "4           accelerator\n",
       "5                accent\n",
       "6                  Asia\n",
       "7                    up\n",
       "8             announcer\n",
       "9    apartment building\n",
       "Name: en, dtype: object"
      ]
     },
     "execution_count": 19,
     "metadata": {},
     "output_type": "execute_result"
    }
   ],
   "source": [
    "en_words.head(10)"
   ]
  },
  {
   "cell_type": "code",
   "execution_count": null,
   "metadata": {},
   "outputs": [],
   "source": [
    "bar = progressbar.ProgressBar(max_value=len(words))"
   ]
  },
  {
   "cell_type": "code",
   "execution_count": null,
   "metadata": {
    "scrolled": true
   },
   "outputs": [],
   "source": [
    "for idx, word in bar(enumerate(jp_words)):\n",
    "    tts = gTTS(text=word, lang='ja')\n",
    "    tts.save(\"audio/ja/{}.mp3\".format(idx))"
   ]
  },
  {
   "cell_type": "code",
   "execution_count": null,
   "metadata": {
    "collapsed": true,
    "scrolled": true
   },
   "outputs": [],
   "source": [
    "for idx, word in bar(enumerate(en_words)):\n",
    "    tts = gTTS(text=word, lang='en')\n",
    "    tts.save(\"audio/en/{}.mp3\".format(idx))"
   ]
  }
 ],
 "metadata": {
  "kernelspec": {
   "display_name": "Python 3",
   "language": "python",
   "name": "python3"
  },
  "language_info": {
   "codemirror_mode": {
    "name": "ipython",
    "version": 3
   },
   "file_extension": ".py",
   "mimetype": "text/x-python",
   "name": "python",
   "nbconvert_exporter": "python",
   "pygments_lexer": "ipython3",
   "version": "3.5.2"
  }
 },
 "nbformat": 4,
 "nbformat_minor": 2
}
